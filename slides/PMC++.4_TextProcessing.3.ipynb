{
 "cells": [
  {
   "cell_type": "markdown",
   "metadata": {},
   "source": [
    "### 编码字符串到字节流"
   ]
  },
  {
   "cell_type": "code",
   "execution_count": 2,
   "metadata": {},
   "outputs": [
    {
     "name": "stdout",
     "output_type": "stream",
     "text": [
      "String           : test 测试 テスト\n",
      "Encoded by utf-8 : 7465737420e6b58be8af9520e38386e382b9e38388\n",
      "Encoded by gbk   : 7465737420b2e2cad420a5c6a5b9a5c8\n",
      "Encoded by cp936 : 7465737420b2e2cad420a5c6a5b9a5c8\n",
      "'cp932' codec can't encode character '\\u6d4b' in position 5: illegal multibyte sequence\n",
      "'charmap' codec can't encode characters in position 5-6: character maps to <undefined>\n"
     ]
    }
   ],
   "source": [
    "import typing\n",
    "\n",
    "def PrintLine(label: str, content: str, labelWidth: int = 16, alignSymbol: str = \"<\"):\n",
    "    formatString = f\"{{label:{alignSymbol}{labelWidth}}} : {{content}}\"\n",
    "    ret = formatString.format(label=label, content=content)\n",
    "    print(ret)\n",
    "\n",
    "def PrintTextCode(s: str, codePages: typing.List[str]):\n",
    "    PrintLine(\"String\", s)\n",
    "    for cp in codePages:\n",
    "        try:\n",
    "            PrintLine(f\"Encoded by {cp}\", s.encode(cp).hex())\n",
    "        except UnicodeEncodeError as e:\n",
    "            print(str(e))\n",
    "\n",
    "TEST_CODE_PAGES = ['utf-8', 'gbk', 'cp936', 'cp932', 'cp1252']\n",
    "s = \"test 测试 テスト\"\n",
    "\n",
    "PrintTextCode(s, TEST_CODE_PAGES)"
   ]
  },
  {
   "cell_type": "markdown",
   "metadata": {},
   "source": [
    "### '\\u6d4b' 是什么字？"
   ]
  },
  {
   "cell_type": "code",
   "execution_count": 3,
   "metadata": {},
   "outputs": [
    {
     "name": "stdout",
     "output_type": "stream",
     "text": [
      "String           : 测\n",
      "Encoded by utf-8 : e6b58b\n"
     ]
    }
   ],
   "source": [
    "PrintTextCode('\\u6d4b', ['utf-8'])"
   ]
  },
  {
   "cell_type": "markdown",
   "metadata": {},
   "source": [
    "### “测”不在日文汉字中吗？"
   ]
  },
  {
   "cell_type": "code",
   "execution_count": 4,
   "metadata": {},
   "outputs": [
    {
     "name": "stdout",
     "output_type": "stream",
     "text": [
      "String           : 測\n",
      "Encoded by utf-8 : e6b8ac\n",
      "Encoded by gbk   : 9c79\n",
      "Encoded by cp936 : 9c79\n",
      "Encoded by cp932 : 91aa\n",
      "'charmap' codec can't encode character '\\u6e2c' in position 0: character maps to <undefined>\n"
     ]
    }
   ],
   "source": [
    "PrintTextCode('測', TEST_CODE_PAGES)"
   ]
  },
  {
   "cell_type": "markdown",
   "metadata": {},
   "source": [
    "### 应用一下修改"
   ]
  },
  {
   "cell_type": "code",
   "execution_count": 5,
   "metadata": {},
   "outputs": [
    {
     "name": "stdout",
     "output_type": "stream",
     "text": [
      "String           : test 測試 テスト\n",
      "Encoded by utf-8 : 7465737420e6b8ace8a9a620e38386e382b9e38388\n",
      "Encoded by gbk   : 74657374209c79d48720a5c6a5b9a5c8\n",
      "Encoded by cp936 : 74657374209c79d48720a5c6a5b9a5c8\n",
      "Encoded by cp932 : 746573742091aa8e8e20836583588367\n",
      "'charmap' codec can't encode characters in position 5-6: character maps to <undefined>\n"
     ]
    }
   ],
   "source": [
    "s2 = \"test 測試 テスト\"\n",
    "PrintTextCode(s2, TEST_CODE_PAGES)"
   ]
  },
  {
   "cell_type": "markdown",
   "metadata": {},
   "source": [
    "### 乱码是怎么来的？"
   ]
  },
  {
   "cell_type": "code",
   "execution_count": 10,
   "metadata": {},
   "outputs": [
    {
     "name": "stdout",
     "output_type": "stream",
     "text": [
      "----------------------------------------------------------\n",
      "String           : test 測試 テスト 시험하는것\n",
      "cp932 Enc2Bytes  : 74:65:73:74:20:91:aa:8e:8e:20:83:65:83:58:83:67:20:3f:3f:3f:3f:3f\n",
      "cp936 Dec2Str    : test 應帋 僥僗僩 ?????\n",
      "----------------------------------------------------------\n",
      "String           : test 測試 テスト 시험하는것\n",
      "cp936 Enc2Bytes  : 74:65:73:74:20:9c:79:d4:87:20:a5:c6:a5:b9:a5:c8:20:3f:3f:3f:3f:3f\n",
      "cp932 Dec2Str    : test 忱ﾔ� ･ﾆ･ｹ･ﾈ ?????\n",
      "----------------------------------------------------------\n",
      "String           : test 應帋 僥僗僩 ?????\n",
      "cp936 Enc2Bytes  : 74:65:73:74:20:91:aa:8e:8e:20:83:65:83:58:83:67:20:3f:3f:3f:3f:3f\n",
      "cp932 Dec2Str    : test 測試 テスト ?????\n",
      "----------------------------------------------------------\n",
      "String           : test 忱ﾔ� ･ﾆ･ｹ･ﾈ ?????\n",
      "cp932 Enc2Bytes  : 74:65:73:74:20:9c:79:d4:3f:20:a5:c6:a5:b9:a5:c8:20:3f:3f:3f:3f:3f\n",
      "cp936 Dec2Str    : test 測�? テスト ?????\n",
      "----------------------------------------------------------\n",
      "String           : test 測試 テスト 시험하는것\n",
      "utf-8 Enc2Bytes  : 74:65:73:74:20:e6:b8:ac:e8:a9:a6:20:e3:83:86:e3:82:b9:e3:83:88:20:ec:8b:9c:ed:97:98:ed:95:98:eb:8a:94:ea:b2:83\n",
      "cp1252 Dec2Str   : test æ¸¬è©¦ ãƒ†ã‚¹ãƒˆ ì‹œí—˜í•˜ëŠ”ê²ƒ\n",
      "----------------------------------------------------------\n",
      "String           : test æ¸¬è©¦ ãƒ†ã‚¹ãƒˆ ì‹œí—˜í•˜ëŠ”ê²ƒ\n",
      "cp1252 Enc2Bytes : 74:65:73:74:20:e6:b8:ac:e8:a9:a6:20:e3:83:86:e3:82:b9:e3:83:88:20:ec:8b:9c:ed:97:98:ed:95:98:eb:8a:94:ea:b2:83\n",
      "utf-8 Dec2Str    : test 測試 テスト 시험하는것\n",
      "----------------------------------------------------------\n",
      "String           : 一隻憂鬱的台灣烏龜\n",
      "cp950 Enc2Bytes  : a4:40:b0:a6:bc:7e:c6:7b:aa:ba:a5:78:c6:57:af:51:c0:74\n",
      "cp936 Dec2Str    : �@唉紐苳�亥x芖疩纓\n"
     ]
    }
   ],
   "source": [
    "s3 = \"test 測試 テスト 시험하는것\"\n",
    "def Mojibake(s: str, encCp: str, decCp: str):\n",
    "    print(\"----------------------------------------------------------\")\n",
    "    PrintLine(\"String\", s)\n",
    "    bytes = s.encode(encCp, errors='replace')\n",
    "    PrintLine(f\"{encCp} Enc2Bytes\", bytes.hex(\":\"))\n",
    "    newS = bytes.decode(decCp, errors='replace')\n",
    "    PrintLine(f\"{decCp} Dec2Str\", newS)\n",
    "    return newS\n",
    "    \n",
    "# 乱码 == Mojibake == 文字化け （Character Transformation）\n",
    "moji1 = Mojibake(s3, 'cp932', 'cp936')\n",
    "moji2 = Mojibake(s3, 'cp936', 'cp932')\n",
    "\n",
    "moji3 = Mojibake(moji1, 'cp936', 'cp932')\n",
    "moji4 = Mojibake(moji2, 'cp932', 'cp936')\n",
    "\n",
    "moji5 = Mojibake(s3, 'utf-8', 'cp1252')\n",
    "moji6 = Mojibake(moji5, 'cp1252', 'utf-8')\n",
    "\n",
    "moji7 = Mojibake(\"一隻憂鬱的台灣烏龜\", 'cp950', 'cp936')"
   ]
  },
  {
   "cell_type": "markdown",
   "metadata": {},
   "source": [
    "### “烫烫烫”, “屯屯屯” 与 \"锟斤拷\""
   ]
  },
  {
   "cell_type": "code",
   "execution_count": 9,
   "metadata": {},
   "outputs": [
    {
     "name": "stdout",
     "output_type": "stream",
     "text": [
      "String           : 烫烫烫烫\n",
      "Encoded by utf-8 : e783abe783abe783abe783ab\n",
      "Encoded by gbk   : cccccccccccccccc\n",
      "Encoded by cp936 : cccccccccccccccc\n",
      "'cp932' codec can't encode character '\\u70eb' in position 0: illegal multibyte sequence\n",
      "'charmap' codec can't encode characters in position 0-3: character maps to <undefined>\n",
      "String           : 屯屯屯屯\n",
      "Encoded by utf-8 : e5b1afe5b1afe5b1afe5b1af\n",
      "Encoded by gbk   : cdcdcdcdcdcdcdcd\n",
      "Encoded by cp936 : cdcdcdcdcdcdcdcd\n",
      "Encoded by cp932 : 93d493d493d493d4\n",
      "'charmap' codec can't encode characters in position 0-3: character maps to <undefined>\n",
      "String           : 锟斤拷\n",
      "Encoded by utf-8 : e9949fe696a4e68bb7\n",
      "Encoded by gbk   : efbfbdefbfbd\n",
      "Encoded by cp936 : efbfbdefbfbd\n",
      "'cp932' codec can't encode character '\\u951f' in position 0: illegal multibyte sequence\n",
      "'charmap' codec can't encode characters in position 0-2: character maps to <undefined>\n",
      "String           : 锘\n",
      "Encoded by utf-8 : e99498\n",
      "Encoded by gbk   : efbb\n",
      "Encoded by cp936 : efbb\n",
      "'cp932' codec can't encode character '\\u9518' in position 0: illegal multibyte sequence\n",
      "'charmap' codec can't encode character '\\u9518' in position 0: character maps to <undefined>\n"
     ]
    }
   ],
   "source": [
    "PrintTextCode(\"烫烫烫烫\", TEST_CODE_PAGES)\n",
    "PrintTextCode(\"屯屯屯屯\", TEST_CODE_PAGES)\n",
    "PrintTextCode(\"锟斤拷\", TEST_CODE_PAGES)\n",
    "PrintTextCode(\"锘\", TEST_CODE_PAGES)"
   ]
  },
  {
   "cell_type": "markdown",
   "metadata": {},
   "source": [
    "* `0xCC`: x86/64 asm `int 3` interruption, 未初始化的栈内存会被填充；\n",
    "* `0xCD`: MS CRT debug下 `delete`/`free` 之后对内存的标记；\n",
    "* `EF:BB` 是 UTF-8 BOM"
   ]
  },
  {
   "cell_type": "markdown",
   "metadata": {},
   "source": [
    "### \"锟斤拷\" 是什么？"
   ]
  },
  {
   "cell_type": "code",
   "execution_count": 8,
   "metadata": {},
   "outputs": [
    {
     "name": "stdout",
     "output_type": "stream",
     "text": [
      "----------------------------------------------------------\n",
      "String           : 锟斤拷\n",
      "cp936 Enc2Bytes  : ef:bf:bd:ef:bf:bd\n",
      "utf-8 Dec2Str    : ��\n"
     ]
    }
   ],
   "source": [
    "moji6 = Mojibake(\"锟斤拷\", 'cp936', 'utf-8')"
   ]
  },
  {
   "cell_type": "markdown",
   "metadata": {},
   "source": [
    "### 其他一些用于填充内存以方便诊断的代码\n",
    "* `0xFD`\n",
    "* `0xDD`\n",
    "* `0xBAADF00D`\n",
    "* `0xDEADBEEF`"
   ]
  }
 ],
 "metadata": {
  "kernelspec": {
   "display_name": "Python 3.10.8 ('sandbox')",
   "language": "python",
   "name": "python3"
  },
  "language_info": {
   "codemirror_mode": {
    "name": "ipython",
    "version": 3
   },
   "file_extension": ".py",
   "mimetype": "text/x-python",
   "name": "python",
   "nbconvert_exporter": "python",
   "pygments_lexer": "ipython3",
   "version": "3.10.8 (main, Nov  4 2022, 13:48:29) [GCC 11.2.0]"
  },
  "orig_nbformat": 4,
  "vscode": {
   "interpreter": {
    "hash": "fc2932ef53fae6f3da2fcc0bee53f5f2eca7274226af6a8a9e1e6099346e9fe5"
   }
  }
 },
 "nbformat": 4,
 "nbformat_minor": 2
}
